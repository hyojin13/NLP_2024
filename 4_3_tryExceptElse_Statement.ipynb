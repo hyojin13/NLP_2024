{
  "nbformat": 4,
  "nbformat_minor": 0,
  "metadata": {
    "colab": {
      "provenance": [],
      "include_colab_link": true
    },
    "kernelspec": {
      "name": "python3",
      "display_name": "Python 3"
    },
    "language_info": {
      "name": "python"
    }
  },
  "cells": [
    {
      "cell_type": "markdown",
      "metadata": {
        "id": "view-in-github",
        "colab_type": "text"
      },
      "source": [
        "<a href=\"https://colab.research.google.com/github/hyojin13/NLP_2024/blob/main/4_3_tryExceptElse_Statement.ipynb\" target=\"_parent\"><img src=\"https://colab.research.google.com/assets/colab-badge.svg\" alt=\"Open In Colab\"/></a>"
      ]
    },
    {
      "cell_type": "markdown",
      "source": [
        "## 🔨 try ~ except ~ else/finally\n",
        "---\n",
        "\n",
        "1️⃣ 프로그램을 작성 후 실행되는 동안 오류가 발생하면 프로그램은 더 이상 진행되지 않는다. 이 상황을 예외 (exeption) 상황이라고 한다.\n",
        "\n",
        "2️⃣ try: ~ except:\n",
        "  - Exeption 이 있더라도 프로그램 중단 없이 예외에 대하여 적절히 처리하여 프로그램을 진행시킬 수 있도록 하는 구문\n",
        "\n",
        "3️⃣ try: ~ except: ~ else:\n",
        "  - 어떤 로직을 수행했을 때 오류 상황이 아닌 경우에만 어떤 작업을 수행하는 코드를 작성해야 할 때\n",
        "  - 예외 Exception이 발행하면 else 부분은 수행되지 않음\n",
        "\n",
        "4️⃣ try: ~ except: ~ finally:\n",
        "  - 오류 발생과 상관없이 어떤 코드를 무조건 실행 시킬 때\n"
      ],
      "metadata": {
        "id": "3V3eF3-rqKDl"
      }
    },
    {
      "cell_type": "code",
      "source": [
        "print('How are you?')\n",
        "print(param)\n"
      ],
      "metadata": {
        "id": "g853BV9J0k0d",
        "outputId": "8ffa336b-762c-47b8-94b4-4e23ca1e7c1b",
        "colab": {
          "base_uri": "https://localhost:8080/",
          "height": 184
        }
      },
      "execution_count": 1,
      "outputs": [
        {
          "output_type": "stream",
          "name": "stdout",
          "text": [
            "How are you?\n"
          ]
        },
        {
          "output_type": "error",
          "ename": "NameError",
          "evalue": "name 'param' is not defined",
          "traceback": [
            "\u001b[0;31m---------------------------------------------------------------------------\u001b[0m",
            "\u001b[0;31mNameError\u001b[0m                                 Traceback (most recent call last)",
            "\u001b[0;32m<ipython-input-1-bd27b2800588>\u001b[0m in \u001b[0;36m<cell line: 2>\u001b[0;34m()\u001b[0m\n\u001b[1;32m      1\u001b[0m \u001b[0mprint\u001b[0m\u001b[0;34m(\u001b[0m\u001b[0;34m'How are you?'\u001b[0m\u001b[0;34m)\u001b[0m\u001b[0;34m\u001b[0m\u001b[0;34m\u001b[0m\u001b[0m\n\u001b[0;32m----> 2\u001b[0;31m \u001b[0mprint\u001b[0m\u001b[0;34m(\u001b[0m\u001b[0mparam\u001b[0m\u001b[0;34m)\u001b[0m\u001b[0;34m\u001b[0m\u001b[0;34m\u001b[0m\u001b[0m\n\u001b[0m",
            "\u001b[0;31mNameError\u001b[0m: name 'param' is not defined"
          ]
        }
      ]
    },
    {
      "cell_type": "code",
      "source": [
        "try:\n",
        "  print('How are you?')\n",
        "  #print(param)\n",
        "except:\n",
        "  print('Exception occurred')"
      ],
      "metadata": {
        "id": "ZoLYSgwbZNSk",
        "outputId": "958c17b2-8052-4d99-a858-65f4fe7664a7",
        "colab": {
          "base_uri": "https://localhost:8080/"
        }
      },
      "execution_count": 3,
      "outputs": [
        {
          "output_type": "stream",
          "name": "stdout",
          "text": [
            "How are you?\n"
          ]
        }
      ]
    },
    {
      "cell_type": "code",
      "execution_count": 5,
      "metadata": {
        "colab": {
          "base_uri": "https://localhost:8080/"
        },
        "id": "XKm8hYRNqJE2",
        "outputId": "a425bf65-5c0d-4bea-8209-aa03714efc8e"
      },
      "outputs": [
        {
          "output_type": "stream",
          "name": "stdout",
          "text": [
            "How are you?\n",
            "Exception occurred\n"
          ]
        }
      ],
      "source": [
        "# 위 2️⃣ 의 예시 (try: ~ except)\n",
        "\n",
        "try:\n",
        "  print ('How are you?')\n",
        "  print (param) #param 변수가 정의되지 않았으므로 NameError 예외가 발생. 예외가 발생하면 프로그램은 try 블록을 빠져나와 except 블록으로 이동.\n",
        "\n",
        "except:\n",
        "  print ('Exception occurred') #except 블록에서는 \"Exception occurred\"라는 메시지가 출력된다."
      ]
    },
    {
      "cell_type": "code",
      "source": [
        "# 위 2️⃣ 의 예시 (try: ~ except)\n",
        "\n",
        "try:\n",
        "  print ('How are you?')\n",
        "  # print (param) #해당 코드라인 비활성화시켜 param 변수 사용하여 출력 시도 안함.\n",
        "  #💊param 변수가 정의되지 않은 것이 없으면 NameError 예외가 발생 안함. 예외가 발생하지 않았음으로 프로그램은 try 블록을 빠져나오지 않고, except 블록으로 이동할 필요도 없음.\n",
        "\n",
        "except:\n",
        "  print ('Exception occurred') #except 블록에서는 \"Exception occurred\"라는 메시지가 출력된다."
      ],
      "metadata": {
        "id": "KNr3PPDkPVtK",
        "outputId": "e2177faa-2bd8-4513-fbcc-43a814040f65",
        "colab": {
          "base_uri": "https://localhost:8080/"
        }
      },
      "execution_count": 6,
      "outputs": [
        {
          "output_type": "stream",
          "name": "stdout",
          "text": [
            "How are you?\n"
          ]
        }
      ]
    },
    {
      "cell_type": "code",
      "source": [
        "# 위 3️⃣  (try: ~ exception: ~ else: 에서 else 부분이 실행되지 않은 예시 )\n",
        "\n",
        "try:\n",
        "  print ('How are you?')\n",
        "  print (param) #param 변수를 사용하려고 시도. param 변수가 정의되지 않았으므로 NameError 예외가 발생합니다.\n",
        "\n",
        "#예외가 발생할 경우\n",
        "except:\n",
        "  print ('Exception occurred.') #예외가 발생하면 프로그램은 try 블록을 빠져나와 except 블록으로 이동. except 블록에서는 \"Exception occurred.\"라는 메시지가 출력.\n",
        "\n",
        "#예외가 발생하지 않았을 경우에만 실행됨. 이 경우 else 블록은 실행되지 않는다.\n",
        "else:\n",
        "  print ('Exception did not occur.')"
      ],
      "metadata": {
        "colab": {
          "base_uri": "https://localhost:8080/"
        },
        "id": "yI5O0MpmuDHE",
        "outputId": "9b5661ad-1800-477e-865c-8b1529337be2"
      },
      "execution_count": 7,
      "outputs": [
        {
          "output_type": "stream",
          "name": "stdout",
          "text": [
            "How are you?\n",
            "Exception occurred.\n"
          ]
        }
      ]
    },
    {
      "cell_type": "code",
      "source": [
        "try:\n",
        "  print('How are you?')\n",
        "  #print(param)\n",
        "except:\n",
        "  print('Exception occurred.')\n",
        "else:\n",
        "  print('Exception did not occur')"
      ],
      "metadata": {
        "id": "4_-R48OZ2nlH",
        "outputId": "42bbdd58-0a5a-446b-e7cc-57e62c40d359",
        "colab": {
          "base_uri": "https://localhost:8080/"
        }
      },
      "execution_count": 10,
      "outputs": [
        {
          "output_type": "stream",
          "name": "stdout",
          "text": [
            "How are you?\n",
            "Exception did not occur\n"
          ]
        }
      ]
    },
    {
      "cell_type": "code",
      "source": [
        "# 위 3️⃣  (try: ~ exception: ~ else: 에서 except 부분이 실행되지 않은 예시 )\n",
        "\n",
        "try:\n",
        "  print ('How are you?')\n",
        "# print (param) #해당 코드라인 비활성화시켜 param 변수 사용하여 출력 시도 안함.\n",
        "\n",
        "#예외가 발생할 경우\n",
        "except:\n",
        "  print ('Exception occurred.')\n",
        "\n",
        "#예외가 발생하지 않았을 경우에만 실행됨\n",
        "else:\n",
        "  print ('Exception did not occur.')"
      ],
      "metadata": {
        "colab": {
          "base_uri": "https://localhost:8080/"
        },
        "id": "y46HtrZSu_s2",
        "outputId": "4409eda8-cf58-483f-db6d-f5d0ff8ad6d3"
      },
      "execution_count": 8,
      "outputs": [
        {
          "output_type": "stream",
          "name": "stdout",
          "text": [
            "How are you?\n",
            "Exception did not occur.\n"
          ]
        }
      ]
    },
    {
      "cell_type": "code",
      "source": [
        "# 위 4️⃣  (try: ~ exception: ~ finally: exeption 예외 발생의 유무에 상관없이 무조건 실행되는 finally 부분 )\n",
        "\n",
        "try:\n",
        "  print ('How are you?')\n",
        "  print (param)\n",
        "\n",
        "except:\n",
        "  print ('Exception occurred.')\n",
        "\n",
        "finally:\n",
        "  print ('This code should be running.')"
      ],
      "metadata": {
        "colab": {
          "base_uri": "https://localhost:8080/"
        },
        "id": "k8-JM-FevYkh",
        "outputId": "e4949a66-fbd9-4930-b6c4-a9188b09ef04"
      },
      "execution_count": 9,
      "outputs": [
        {
          "output_type": "stream",
          "name": "stdout",
          "text": [
            "How are you?\n",
            "Exception occurred.\n",
            "This code should be running.\n"
          ]
        }
      ]
    },
    {
      "cell_type": "code",
      "source": [
        "try:\n",
        "  print('How are you?')\n",
        "except:\n",
        "  print('Exception occurred.')\n",
        "finally:\n",
        "  print('This code should be running.')"
      ],
      "metadata": {
        "id": "uY9hU6PUxUuI",
        "outputId": "96eca03b-b67d-4775-a082-44f10c4857ed",
        "colab": {
          "base_uri": "https://localhost:8080/"
        }
      },
      "execution_count": 13,
      "outputs": [
        {
          "output_type": "stream",
          "name": "stdout",
          "text": [
            "How are you?\n",
            "This code should be running.\n"
          ]
        }
      ]
    },
    {
      "cell_type": "code",
      "source": [
        "# 위 4️⃣  (try: ~ exception: ~ finally: exeption 예외 발생의 유무에 상관없이 무조건 실행되는 finally 부분 )\n",
        "\n",
        "try:\n",
        "  print ('How are you?')\n",
        "# print (param)\n",
        "\n",
        "except:\n",
        "  print ('Exception occurred.')\n",
        "\n",
        "finally:\n",
        "  print ('This code should be running.')"
      ],
      "metadata": {
        "id": "UjK2z3ctQd3G",
        "outputId": "4dec5a65-3047-47ca-c9fe-3b2fb18eef0c",
        "colab": {
          "base_uri": "https://localhost:8080/"
        }
      },
      "execution_count": 11,
      "outputs": [
        {
          "output_type": "stream",
          "name": "stdout",
          "text": [
            "How are you?\n",
            "This code should be running.\n"
          ]
        }
      ]
    }
  ]
}